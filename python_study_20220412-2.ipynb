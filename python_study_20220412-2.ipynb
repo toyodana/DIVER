{
  "nbformat": 4,
  "nbformat_minor": 0,
  "metadata": {
    "colab": {
      "name": "python_study_20220412.ipynb",
      "provenance": [],
      "collapsed_sections": [],
      "authorship_tag": "ABX9TyOJuonAxIrnvzKvqngryECU",
      "include_colab_link": true
    },
    "kernelspec": {
      "name": "python3",
      "display_name": "Python 3"
    },
    "language_info": {
      "name": "python"
    }
  },
  "cells": [
    {
      "cell_type": "markdown",
      "metadata": {
        "id": "view-in-github",
        "colab_type": "text"
      },
      "source": [
        "<a href=\"https://colab.research.google.com/github/toyodana/DIVER/blob/main/python_study_20220412-2.ipynb\" target=\"_parent\"><img src=\"https://colab.research.google.com/assets/colab-badge.svg\" alt=\"Open In Colab\"/></a>"
      ]
    },
    {
      "cell_type": "code",
      "execution_count": 1,
      "metadata": {
        "colab": {
          "base_uri": "https://localhost:8080/"
        },
        "id": "ha-UvhO6_fIv",
        "outputId": "cdbb2e6f-c9cd-4919-a3d1-c70ba4f28130"
      },
      "outputs": [
        {
          "output_type": "stream",
          "name": "stdout",
          "text": [
            "厚さ： 703687.44キロメートル\n",
            "time : 0.005347490310668945[s]\n"
          ]
        }
      ],
      "source": [
        "import time\n",
        "start = time.time()\n",
        "folded_thickness = 0.00008\n",
        "num = 0\n",
        "\n",
        "# while num < 43 :\n",
        "#    folded_thickness *= 2\n",
        "#    num += 1\n",
        "\n",
        "ans = folded_thickness*(2**43)\n",
        "\n",
        "print(\"厚さ： {:.2f}キロメートル\".format(ans / 1000))\n",
        "elapsed_time = time.time() - start\n",
        "print(\"time : {}[s]\".format(elapsed_time))"
      ]
    },
    {
      "cell_type": "code",
      "source": [
        "import time\n",
        "start = time.time()\n",
        "folded_thickness = 0.00008\n",
        "for num in range(43):\n",
        "  folded_thickness *= 2\n",
        "\n",
        "print(\"厚さ： {:.2f}キロメートル、回数： {}回\".format(folded_thickness / 1000, num+1))\n",
        "elapsed_time = time.time() - start\n",
        "print(\"time : {}[s]\".format(elapsed_time))"
      ],
      "metadata": {
        "colab": {
          "base_uri": "https://localhost:8080/"
        },
        "id": "cA3AFKh4_u5U",
        "outputId": "cb638c92-37c4-4469-b1c9-40e63eec6e70"
      },
      "execution_count": null,
      "outputs": [
        {
          "output_type": "stream",
          "name": "stdout",
          "text": [
            "厚さ： 703687.44キロメートル、回数： 43回\n",
            "time : 0.0048313140869140625[s]\n"
          ]
        }
      ]
    },
    {
      "cell_type": "code",
      "source": [
        ""
      ],
      "metadata": {
        "id": "7DetaS8NQn-P"
      },
      "execution_count": null,
      "outputs": []
    },
    {
      "cell_type": "code",
      "source": [
        "%matplotlib inline\n",
        "import time\n",
        "import matplotlib.pyplot as plt\n",
        "start = time.time()\n",
        "\n",
        "# リスト初期化\n",
        "l=[]\n",
        "l.append(0) # 0点登録\n",
        "folded_thickness = 0.00008 # 紙の厚み初期値\n",
        "\n",
        "# while num < 43 :\n",
        "#  folded_thickness *= 2\n",
        "#  num += 1\n",
        "\n",
        "for num in range(43):\n",
        "  folded_thickness *= 2\n",
        "  l.append(folded_thickness)\n",
        "\n",
        "print(l)\n",
        "fig, ax = plt.subplots(1,2)\n",
        "# グラフを表示する。タイトルと軸ラベル名付き。\n",
        "fig.suptitle('thickness of folded paper')\n",
        "#ax[0].set_title(\"thickness of folded paper\")\n",
        "ax[0].set_xlabel(\"number of folds\")\n",
        "ax[0].set_ylabel(\"thickness [km/100000]\")\n",
        "ax[0].plot(l, color='red')\n",
        "\n",
        "ax[1].tick_params(labelcolor='blue')\n",
        "ax[1].plot(l, color='blue')\n",
        "\n",
        "plt.show()\n",
        "elapsed_time = time.time() - start\n",
        "print(\"厚さ： {:.2f}キロメートル、回数： {}回\".format(folded_thickness / 1000, len(l)-1))\n",
        "print(\"time : {}[s]\".format(elapsed_time))"
      ],
      "metadata": {
        "colab": {
          "base_uri": "https://localhost:8080/",
          "height": 384
        },
        "id": "vAO5XGtNCe0C",
        "outputId": "c12ec91c-629c-40a0-9ed9-a091cf6205cc"
      },
      "execution_count": 18,
      "outputs": [
        {
          "output_type": "stream",
          "name": "stdout",
          "text": [
            "[0, 0.00016, 0.00032, 0.00064, 0.00128, 0.00256, 0.00512, 0.01024, 0.02048, 0.04096, 0.08192, 0.16384, 0.32768, 0.65536, 1.31072, 2.62144, 5.24288, 10.48576, 20.97152, 41.94304, 83.88608, 167.77216, 335.54432, 671.08864, 1342.17728, 2684.35456, 5368.70912, 10737.41824, 21474.83648, 42949.67296, 85899.34592, 171798.69184, 343597.38368, 687194.76736, 1374389.53472, 2748779.06944, 5497558.13888, 10995116.27776, 21990232.55552, 43980465.11104, 87960930.22208, 175921860.44416, 351843720.88832, 703687441.77664]\n"
          ]
        },
        {
          "output_type": "display_data",
          "data": {
            "text/plain": [
              "<Figure size 432x288 with 2 Axes>"
            ],
            "image/png": "[encoded data removed]"
          },
          "metadata": {
            "needs_background": "light"
          }
        },
        {
          "output_type": "stream",
          "name": "stdout",
          "text": [
            "厚さ： 703687.44キロメートル、回数： 43回\n",
            "time : 0.2850363254547119[s]\n"
          ]
        }
      ]
    },
    {
      "cell_type": "code",
      "source": [
        ""
      ],
      "metadata": {
        "id": "ikdNbHMqXn2S"
      },
      "execution_count": null,
      "outputs": []
    }
  ]
}