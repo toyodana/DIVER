{
  "nbformat": 4,
  "nbformat_minor": 0,
  "metadata": {
    "colab": {
      "name": "python_study_20220414.ipynb",
      "provenance": [],
      "collapsed_sections": [],
      "authorship_tag": "ABX9TyPRkzS73F/9imG9Tw8hHIgS",
      "include_colab_link": true
    },
    "kernelspec": {
      "name": "python3",
      "display_name": "Python 3"
    },
    "language_info": {
      "name": "python"
    }
  },
  "cells": [
    {
      "cell_type": "markdown",
      "metadata": {
        "id": "view-in-github",
        "colab_type": "text"
      },
      "source": [
        "<a href=\"https://colab.research.google.com/github/toyodana/DIVER/blob/main/python_study_20220414.ipynb\" target=\"_parent\"><img src=\"https://colab.research.google.com/assets/colab-badge.svg\" alt=\"Open In Colab\"/></a>"
      ]
    },
    {
      "cell_type": "code",
      "source": [
        "\"\"\"    問題1   \"\"\"\n",
        "%matplotlib inline\n",
        "import time\n",
        "import matplotlib.pyplot as plt\n",
        "start = time.time()\n",
        "\n",
        "# リスト初期化\n",
        "x=[]\n",
        "y=[]\n",
        "x.append(1)\n",
        "y.append(1)\n",
        "rice = 1\n",
        "num = 0\n",
        "while num < 99 : # 2日目移行なので100-1\n",
        "  rice *= 2\n",
        "  num += 1\n",
        "  x.append(rice)\n",
        "  y.append(num+1)\n",
        "\n",
        "# グラフを表示する。タイトルと軸ラベル名付き。\n",
        "plt.title(\"Shinzaemon Sorori Question\")\n",
        "plt.xlabel(\"Grain of rice\")\n",
        "plt.ylabel(\"number of day\")\n",
        "plt.plot(x,y)\n",
        "\n",
        "plt.show()\n",
        "\n",
        "print(\"{}日目： {}粒\".format(num+1, float(rice)))\n",
        "elapsed_time = time.time() - start\n",
        "print(\"time : {}[s]\".format(elapsed_time))"
      ],
      "metadata": {
        "colab": {
          "base_uri": "https://localhost:8080/",
          "height": 333
        },
        "id": "9K5qVbxyd6KS",
        "outputId": "6321fbbf-86e0-426d-a693-30834853e5de"
      },
      "execution_count": 81,
      "outputs": [
        {
          "output_type": "display_data",
          "data": {
            "text/plain": [
              "<Figure size 432x288 with 1 Axes>"
            ],
            "image/png": "[encoded data removed]"
          },
          "metadata": {
            "needs_background": "light"
          }
        },
        {
          "output_type": "stream",
          "name": "stdout",
          "text": [
            "100日目： 6.338253001141147e+29粒\n",
            "time : 0.14936232566833496[s]\n"
          ]
        }
      ]
    },
    {
      "cell_type": "code",
      "source": [
        "\"\"\"    問題2   \"\"\"\n",
        "n_days: int\n",
        "def compute_sorori_shinzaemon(n_days=100):\n",
        "    \"\"\"曽呂利新左衛門の米の逸話における、日にちごとの米の粒の数を計算する関数。\n",
        "\n",
        "    Parameteres\n",
        "    -----------\n",
        "    n_days: int\n",
        "        米を貰う日数 (default : 100)\n",
        "\n",
        "    Returns\n",
        "    -------\n",
        "    list_n_grains : list\n",
        "        ある日に貰う米の数のリスト (リストの長さはn_daysに等しい)\n",
        "    list_total_grains : list\n",
        "        ある日までに累計で貰う米の数のリスト (リストの長さはn_daysに等しい)\n",
        "    \"\"\"\n",
        "\n",
        "    # 初期化\n",
        "    rice= 1                   # 初期地(1日目)\n",
        "    list_n_grains = [rice]       \n",
        "    list_total_grains = [rice]\n",
        "    num = 0 \n",
        "    # 2日目移行なので100-1 forよりwhleの方が早いため採用\n",
        "    while num < n_days-1 : \n",
        "      list_n_grains.append(rice)\n",
        "      rice *= 2\n",
        "      num += 1\n",
        "      list_total_grains.append(rice)\n",
        "\n",
        "    return list_n_grains, list_total_grains\n",
        "\n",
        "n_days = 20                 # 個人レッスンの為擬似的に20とする\n",
        "list_n_grains, list_total_grains = compute_sorori_shinzaemon(n_days)\n",
        "\n",
        "# グラフを表示する。タイトルと軸ラベル名付き。\n",
        "plt.title(\"Shinzaemon Sorori Question\")\n",
        "plt.xlabel(\"Grain of rice\")\n",
        "plt.ylabel(\"number of day\")\n",
        "plt.plot(list_total_grains,range(n_days))\n",
        "plt.plot(list_n_grains,range(n_days))\n",
        "\n",
        "plt.show()\n",
        "\n",
        "print(\"{}日目： {}粒\".format(n_days, max(list_total_grains)))\n",
        "elapsed_time = time.time() - start\n",
        "print(\"time : {}[s]\".format(elapsed_time))"
      ],
      "metadata": {
        "colab": {
          "base_uri": "https://localhost:8080/",
          "height": 333
        },
        "id": "4Ic4cOlfkGp6",
        "outputId": "c50dfc86-0463-40d4-eb48-03aa2a7717f0"
      },
      "execution_count": 87,
      "outputs": [
        {
          "output_type": "display_data",
          "data": {
            "text/plain": [
              "<Figure size 432x288 with 1 Axes>"
            ],
            "image/png": "[encoded data removed]"
          },
          "metadata": {
            "needs_background": "light"
          }
        },
        {
          "output_type": "stream",
          "name": "stdout",
          "text": [
            "31日目： 1073741824粒\n",
            "time : 2032.33420419693[s]\n"
          ]
        }
      ]
    },
    {
      "cell_type": "code",
      "source": [
        "\"\"\"    問題3   \"\"\"\n",
        "n_days = 31               # 個人レッスンの為擬似的に31日とする\n",
        "num = 25                  # 個人レッスンの為擬似的に25人とする\n",
        "chawan = 3250             # １杯のお茶碗にある米粒数(お茶碗１杯で最低限の生活可能と考える)\n",
        "p_txt = \"\"                # 出力結果\n",
        "\n",
        "# 問題2の関数を使用し米粒数の取り出し\n",
        "list_n_grains, list_total_grains = compute_sorori_shinzaemon(n_days)\n",
        "rice = max(list_total_grains)\n",
        "\n",
        "def compute_rice_sharing(rice=1, num=1, chawan=3250):\n",
        "  year = 0\n",
        "  month = 0\n",
        "  rice_oneday = chawan*3  # 1日３食の必要米粒数\n",
        "  day = int(rice/ (rice_oneday*num))\n",
        "  # print(\"日数：{}日\".format(day))\n",
        "\n",
        "  # １日以上である場合\n",
        "  if day > 0 :\n",
        "    if day > 365 :  # 1年以上の日数がある場合\n",
        "      year = int(day / 365)\n",
        "      day -= (year * 365)\n",
        "    \n",
        "    if day > 31 :  # １ヶ月以上の日数がある場合\n",
        "      month = int(day / 31)\n",
        "      day -= month * 31\n",
        "  # １日以下の場合\n",
        "  else :\n",
        "    day = 0\n",
        "  \n",
        "  return day, month, year\n",
        "\n",
        "# クラス内人数が何日生活できるかの日数取り出し(年月日で取り出し)\n",
        "day, month, year = compute_rice_sharing(rice, num ,chawan)\n",
        "\n",
        "# 出力結果生成\n",
        "if year > 0 :\n",
        "  p_txt = str(year) + \"年\"\n",
        "\n",
        "if month > 0 :\n",
        "  p_txt += str(month) + \"ヶ月\"\n",
        "elif year > 0 :\n",
        "  p_txt += \"と\"\n",
        "\n",
        "if day > 0 :\n",
        "  p_txt += str(day) + \"日\"\n",
        "\n",
        "if p_txt > \"\" :\n",
        "  print(p_txt)\n",
        "else :\n",
        "  print(\"0日\")\n"
      ],
      "metadata": {
        "colab": {
          "base_uri": "https://localhost:8080/"
        },
        "id": "nc7zMwEFuOkN",
        "outputId": "b10bdf4f-f922-4dd0-a6e0-2a952ce3e63c"
      },
      "execution_count": 190,
      "outputs": [
        {
          "output_type": "stream",
          "name": "stdout",
          "text": [
            "12年と25日\n"
          ]
        }
      ]
    },
    {
      "cell_type": "code",
      "source": [
        ""
      ],
      "metadata": {
        "id": "Izx2CAvT9Ds7"
      },
      "execution_count": null,
      "outputs": []
    }
  ]
}