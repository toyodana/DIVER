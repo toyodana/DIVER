{
  "nbformat": 4,
  "nbformat_minor": 0,
  "metadata": {
    "colab": {
      "name": "python_study_20220421.ipynb",
      "provenance": [],
      "authorship_tag": "ABX9TyMTLsnNLKrzRru+UF4DBKgn",
      "include_colab_link": true
    },
    "kernelspec": {
      "name": "python3",
      "display_name": "Python 3"
    },
    "language_info": {
      "name": "python"
    }
  },
  "cells": [
    {
      "cell_type": "markdown",
      "metadata": {
        "id": "view-in-github",
        "colab_type": "text"
      },
      "source": [
        "<a href=\"https://colab.research.google.com/github/toyodana/DIVER/blob/main/python_study_20220421.ipynb\" target=\"_parent\"><img src=\"https://colab.research.google.com/assets/colab-badge.svg\" alt=\"Open In Colab\"/></a>"
      ]
    },
    {
      "cell_type": "code",
      "execution_count": 10,
      "metadata": {
        "id": "WEiCHsV_XZFM",
        "colab": {
          "base_uri": "https://localhost:8080/"
        },
        "outputId": "2393ddda-3054-488b-bd3e-20afd39b6183"
      },
      "outputs": [
        {
          "output_type": "stream",
          "name": "stdout",
          "text": [
            "厚さ： 5368.709メートル、回数： 26回\n"
          ]
        }
      ],
      "source": [
        "\"\"\"    問題1   \"\"\"\n",
        "folded_thickness = 0.00008\n",
        "num = 0\n",
        "\n",
        "while folded_thickness <= 3776:\n",
        "    folded_thickness *= 2\n",
        "    num += 1\n",
        "\n",
        "print('厚さ： {:.3f}メートル、回数： {}回'.format(folded_thickness, num))\n"
      ]
    },
    {
      "cell_type": "code",
      "source": [
        "\"\"\"    問題2   \"\"\"\n",
        "def folded_thickness(distance, thickness=0.00008):\n",
        "    num = 0\n",
        "    while thickness <= distance:\n",
        "        thickness *= 2\n",
        "        num += 1\n",
        "    return thickness, num\n",
        "\n",
        "thickness, num = folded_thickness(4.243 * 9.461e+15)\n",
        "print('厚さ： {}メートル、回数： {}回'.format(thickness, num))"
      ],
      "metadata": {
        "colab": {
          "base_uri": "https://localhost:8080/"
        },
        "id": "lh_OguOQb_w6",
        "outputId": "243737ce-cd3b-4799-bda3-e52543ec0708"
      },
      "execution_count": 13,
      "outputs": [
        {
          "output_type": "stream",
          "name": "stdout",
          "text": [
            "厚さ： 4.7223664828696456e+16メートル、回数： 69回\n"
          ]
        }
      ]
    },
    {
      "cell_type": "code",
      "source": [
        "\"\"\"    問題3   \"\"\"\n",
        "import math\n",
        "def paper_length(number, thickness=0.00008):\n",
        "    a, b = folded_thickness(number)\n",
        "    l = (math.pi * thickness / 6) * (2**b + 4) * (2**b - 1)\n",
        "    return l, b\n",
        "\n",
        "#月の場合\n",
        "moon, num = paper_length(384400000)\n",
        "print('月までの長さは{}メートル、回数：{}回'.format(moon, num))\n",
        "#富士山の場合\n",
        "fuji, num  = paper_length(3776)\n",
        "print('富士山までの長さは{}メートル、回数：{}回'.format(fuji, num))\n",
        "#プロキシマケンタウリの場合\n",
        "proxima, num  = paper_length(4.243 * 9.461e+15)\n",
        "print('プロキシマケンタウリまでの長さは{}メートル、回数：{}回'.format(proxima ,num))"
      ],
      "metadata": {
        "colab": {
          "base_uri": "https://localhost:8080/"
        },
        "id": "_mWdmRPeblL-",
        "outputId": "7c9cc722-7a54-4cbc-fd2c-51761ea124dd"
      },
      "execution_count": 20,
      "outputs": [
        {
          "output_type": "stream",
          "name": "stdout",
          "text": [
            "月までの長さは3.240919444170781e+21メートル、回数：43回\n",
            "富士山までの長さは188646348487.24017メートル、回数：26回\n",
            "プロキシマケンタウリまでの長さは1.4595803601100348e+37メートル、回数：69回\n"
          ]
        }
      ]
    },
    {
      "cell_type": "code",
      "source": [
        ""
      ],
      "metadata": {
        "id": "ejHj4ky6dTYs"
      },
      "execution_count": null,
      "outputs": []
    }
  ]
}